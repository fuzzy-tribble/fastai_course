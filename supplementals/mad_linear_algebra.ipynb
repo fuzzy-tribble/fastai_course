{
 "cells": [
  {
   "cell_type": "markdown",
   "metadata": {},
   "source": [
    "# M.A.D. Linear Algebra Worksheet\n",
    "\n",
    "*M.A.D. = Machine Learning and Data Science*"
   ]
  },
  {
   "cell_type": "markdown",
   "metadata": {},
   "source": [
    "### Purpose\n",
    "\n",
    "Practice linear algebra fundamentals for machine learning and data science"
   ]
  },
  {
   "cell_type": "markdown",
   "metadata": {},
   "source": [
    "## 0.0 Intuition...from simple matricies to complex classifiers\n",
    "\n",
    "**The Universal Approximation Theorem** says that we can approximate any shape (function) arbitrarily closely using combinations of linear functions and nonlinearities. \n",
    "\n",
    "This is really powerful because it helps us understand why the network data structure actually works.\n",
    "\n",
    "There are lots of great tutorials online that can help you get an intuitive understanding how we can build really complex classifiers and other things using just combinations of matricies and nonlinearities. \n",
    "\n",
    "What is equally important is understanding how the network visualization that is typically drawn in courses is represented in matrix form. Below is a screenshot from one of my favorite YouTube videos on the subject ([3Blue1Brown][0]). Without understanding that, we simply don't know how or where to use matrix math to get cool things.\n",
    "\n",
    "| | |\n",
    "|-|-|\n",
    "![matrix_network](img/matrix_network_3blue1brown.png) | ![matrix_network](img/matrix_network_3blue1brown.png)\n",
    "\n",
    "[0]: [https://www.youtube.com/channel/UCYO_jab_esuFRV4b17AJtAw]"
   ]
  },
  {
   "cell_type": "markdown",
   "metadata": {},
   "source": [
    "## 1.0 Matrix Math\n",
    "\n",
    "By far, the most widely used python library out there for doing matrix operations is `numpy`. Let's import it along with `matplotlib` and `seaborn` for visualizations."
   ]
  },
  {
   "cell_type": "code",
   "execution_count": 3,
   "metadata": {},
   "outputs": [],
   "source": [
    "import numpy as np\n",
    "\n",
    "import matplotlib.pyplot as plt\n",
    "# from mpl_toolkits.mplot3d import Axes3D\n",
    "\n",
    "import seaborn as sb"
   ]
  },
  {
   "cell_type": "markdown",
   "metadata": {},
   "source": [
    "### 1.1 Cross Products\n",
    "\n",
    "The cross product `a × b` is defined as a vector `c` that is perpendicular (orthogonal) to both `a` and `b`. It will also has a direction given by the right-hand rule and a magnitude equal to the area of the parallelogram that the vectors span.\n",
    "\n",
    "| | |\n",
    "|-|-|\n",
    "![matrix_network](img/vector_cross_product.png) | ![matrix_network](img/matrix_multiplication.gif)"
   ]
  },
  {
   "cell_type": "code",
   "execution_count": 4,
   "metadata": {},
   "outputs": [
    {
     "name": "stdout",
     "output_type": "stream",
     "text": [
      "(2,)\n",
      "(2,)\n",
      "()\n"
     ]
    },
    {
     "data": {
      "image/png": "[encoded data removed]",
      "text/plain": [
       "<Figure size 432x288 with 1 Axes>"
      ]
     },
     "metadata": {
      "needs_background": "light"
     },
     "output_type": "display_data"
    }
   ],
   "source": [
    "# Create a vector a, b and their cross product c\n",
    "a = np.array([2,3])\n",
    "b = np.array([1,5])\n",
    "c = np.cross(a,b)\n",
    "\n",
    "# What is the shape/dimensions of a? b? c?\n",
    "print(a.shape)\n",
    "print(b.shape)\n",
    "print(c.shape)\n",
    "\n",
    "# What do they all look like? Let's plot them\n",
    "origin = [0], [0]\n",
    "plt.quiver(*origin, a, b, color=['r','b','g'], scale=25)\n",
    "plt.show()"
   ]
  },
  {
   "cell_type": "markdown",
   "metadata": {},
   "source": [
    "### 1.2 Dot Products\n",
    "\n",
    "..."
   ]
  },
  {
   "cell_type": "markdown",
   "metadata": {},
   "source": [
    "### 1.3 Exercises"
   ]
  },
  {
   "cell_type": "markdown",
   "metadata": {},
   "source": [
    "**Exercise 1: Simple Vectors**\n",
    "\n",
    "Use the vectors defined below ..."
   ]
  },
  {
   "cell_type": "code",
   "execution_count": 68,
   "metadata": {},
   "outputs": [
    {
     "data": {
      "text/plain": [
       "(3,)"
      ]
     },
     "execution_count": 68,
     "metadata": {},
     "output_type": "execute_result"
    }
   ],
   "source": [
    "a1 = np.array([2,3,4])\n",
    "b1 = np.array([2,0,0])\n",
    "\n",
    "# Will you be able to cross these?"
   ]
  },
  {
   "cell_type": "markdown",
   "metadata": {},
   "source": [
    "##### Exercise 2: Image Matrix\n",
    "\n",
    "An image is just a matrix with each pixel representing a value. If its a color image (RGB for exmaple) then each pixel will have a value for RGB...\n"
   ]
  },
  {
   "cell_type": "code",
   "execution_count": 69,
   "metadata": {},
   "outputs": [
    {
     "data": {
      "text/plain": [
       "(3,)"
      ]
     },
     "execution_count": 69,
     "metadata": {},
     "output_type": "execute_result"
    }
   ],
   "source": [
    "rgb_image = None\n",
    "greyscale_image = None\n",
    "\n",
    "\n",
    "b = np.array([5,6,7])\n",
    "b.shape"
   ]
  },
  {
   "cell_type": "code",
   "execution_count": 72,
   "metadata": {},
   "outputs": [
    {
     "data": {
      "text/plain": [
       "array([-3,  6, -3])"
      ]
     },
     "execution_count": 72,
     "metadata": {},
     "output_type": "execute_result"
    }
   ],
   "source": []
  },
  {
   "cell_type": "code",
   "execution_count": 83,
   "metadata": {},
   "outputs": [
    {
     "data": {
      "image/png": "[encoded data removed]",
      "text/plain": [
       "<Figure size 432x288 with 1 Axes>"
      ]
     },
     "metadata": {
      "needs_background": "light"
     },
     "output_type": "display_data"
    }
   ],
   "source": [
    "# Plot them\n",
    "origin = [0], [0] # origin point\n",
    "plt.quiver(*origin, a, b, color=['r','b','g'], scale=25)\n",
    "plt.show()"
   ]
  },
  {
   "cell_type": "markdown",
   "metadata": {},
   "source": [
    "## Non-Linearities and Complex Functions"
   ]
  },
  {
   "cell_type": "markdown",
   "metadata": {},
   "source": [
    "## Visualization of Higher Dimensional Vectors"
   ]
  },
  {
   "cell_type": "code",
   "execution_count": 9,
   "metadata": {},
   "outputs": [
    {
     "name": "stdout",
     "output_type": "stream",
     "text": [
      "(('John', 'Jenny'), ('Charles', 'Christy'), ('Mike', 'Monica'))\n"
     ]
    }
   ],
   "source": [
    "a = (\"John\", \"Charles\", \"Mike\")\n",
    "b = (\"Jenny\", \"Christy\", \"Monica\")\n",
    "\n",
    "x = zip(a, b)\n",
    "\n",
    "#use the tuple() function to display a readable version of the result:\n",
    "\n",
    "print(tuple(x))"
   ]
  },
  {
   "cell_type": "code",
   "execution_count": 14,
   "metadata": {},
   "outputs": [
    {
     "data": {
      "image/png": "[encoded data removed]",
      "text/plain": [
       "<Figure size 432x288 with 1 Axes>"
      ]
     },
     "metadata": {
      "needs_background": "light"
     },
     "output_type": "display_data"
    }
   ],
   "source": [
    "# Define NP array\n",
    "soa = np.array([[0, 0, 1, 1, -2, 0], \n",
    "                [0, 0, 2, 1, 1, 0],\n",
    "                [0, 0, 3, 2, 1, 0], \n",
    "                [0, 0, 4, 0.5, 0.7, 0]])\n",
    "\n",
    "# returns a zip object (iterator of tuples); * means zip the unpacked list\n",
    "X, Y, Z, U, V, W = zip(*soa)\n",
    "fig = plt.figure()\n",
    "\n",
    "# Add subplot in position 111 with 3d projection\n",
    "ax = fig.add_subplot(111, projection='3d')\n",
    "ax.quiver(X, Y, Z, U, V, W) # add quiver for each of the vectors\n",
    "\n",
    "# Set limits for better visual\n",
    "ax.set_xlim([-1, 0.5])\n",
    "ax.set_ylim([-1, 1.5])\n",
    "ax.set_zlim([-1, 8])\n",
    "\n",
    "plt.show()"
   ]
  },
  {
   "cell_type": "markdown",
   "metadata": {},
   "source": [
    "## Amazing Additional Resources\n",
    "\n",
    "1blue3brown"
   ]
  },
  {
   "cell_type": "code",
   "execution_count": null,
   "metadata": {},
   "outputs": [],
   "source": []
  }
 ],
 "metadata": {
  "kernelspec": {
   "display_name": "Python 3",
   "language": "python",
   "name": "python3"
  },
  "language_info": {
   "codemirror_mode": {
    "name": "ipython",
    "version": 3
   },
   "file_extension": ".py",
   "mimetype": "text/x-python",
   "name": "python",
   "nbconvert_exporter": "python",
   "pygments_lexer": "ipython3",
   "version": "3.7.4"
  }
 },
 "nbformat": 4,
 "nbformat_minor": 2
}
