{
 "cells": [
  {
   "cell_type": "markdown",
   "metadata": {},
   "source": [
    "# M.A.D. Python Fundamentals\n",
    "(**M**achine Learning **a**nd **D**ata Science)\n",
    "\n",
    "The purpose of this notebook is to provide a worksheet-style refresher on fundamental python for data science and machine learning. I created it as I was going through the Fastai course just as a refresher.\n",
    "\n",
    "Cousin Refresher Worksheets:\n",
    "* [Linear Algebra Review with Python][1]\n",
    "* [Python Libaries for Natural Language Processing][2]\n",
    "* [Python][3]\n",
    "\n",
    "[1]: https://www.google.com\n",
    "[2]: https://www.google.com\n",
    "[3]: https://www.google.com"
   ]
  },
  {
   "cell_type": "markdown",
   "metadata": {},
   "source": [
    "You will practice usage of the following common MAD libraries\n",
    "\n",
    "* numpy\n",
    "* pandas\n",
    "* matplotlib\n",
    "* sb"
   ]
  },
  {
   "cell_type": "markdown",
   "metadata": {},
   "source": [
    "## Arrays and Vectors with Numpy"
   ]
  },
  {
   "cell_type": "markdown",
   "metadata": {},
   "source": [
    "Creating arrays in numpy is super useful because it has a lot of built-in functionality for manipulation.\n",
    "\n",
    "First, **creating arrays**...you will commonly see arrays created in all of these ways. Try them, get used to them."
   ]
  },
  {
   "cell_type": "code",
   "execution_count": null,
   "metadata": {},
   "outputs": [],
   "source": [
    "from learntoo\n",
    "# from learntools.pandas.creating_reading_and_writing import *"
   ]
  },
  {
   "cell_type": "code",
   "execution_count": null,
   "metadata": {},
   "outputs": [],
   "source": [
    "# from learntools.core import binder; binder.bind(globals())\n",
    "# from learntools.pandas.creating_reading_and_writing import *\n",
    "\n",
    "# fruits = pd.DataFrame(data = [[30,21]], columns=['Apples', 'Bananas'])\n",
    "\n",
    "# q1.check()\n",
    "# fruits\n",
    "\n",
    "# q1.hint()\n",
    "# q1.solution()\n",
    "\n",
    "# CREATE ARRAYS\n",
    "# import numpy as np\n",
    "# x = np.array([10, 20, 30])\n",
    "# print(type(x))\n",
    "# print(x.shape)\n",
    "\n",
    "# np.zeros() # create an array of zeros\n",
    "# np.ones() # create an array of ones\n",
    "# np.full() # create a constant array\n",
    "# np.eye() # create an identity matrix\n",
    "\n",
    "# numpy.array(object, dtype, etc)\n",
    "\n",
    "# Create an array of random values\n",
    "# np.random.random()\n",
    "\n",
    "# arry1 = np.arrange(0.1, 5.2, 7.4)"
   ]
  },
  {
   "cell_type": "code",
   "execution_count": null,
   "metadata": {},
   "outputs": [],
   "source": [
    "# SLICE, SUBSET AND INDEX ARRAYS\n",
    "\n",
    "# print(a2darray[2][1])\n",
    "# print(a2darray[1,1,2])\n",
    "# print(a2darray[:,2])\n",
    "# print(a2darray[1,...])\n",
    "\n",
    "\n",
    "# Fancy ndexing\n",
    "# print(a2darray[a2darray > 2])\n",
    "\n",
    "# greater_than_2 = (a3darray >= 2)\n",
    "# print(a2darray[greater_than_2])\n",
    "\n",
    "# RESHAPING\n",
    "# myarray = np.arrange(10).reshape(5,2)"
   ]
  },
  {
   "cell_type": "code",
   "execution_count": null,
   "metadata": {},
   "outputs": [],
   "source": [
    "# ITERATE OVER AN ARRAY\n",
    "\n",
    "# for i in np.nditer(myarray)"
   ]
  },
  {
   "cell_type": "markdown",
   "metadata": {},
   "source": [
    "## Data Wrangling with Pandas"
   ]
  },
  {
   "cell_type": "markdown",
   "metadata": {},
   "source": [
    "Pandas Offical Docs LINK\n",
    "\n",
    "Datatypes\n",
    "* Series - this is just a constant size one dimensional array\n",
    "* Dataframe - this is like a table (rows/indexes, columns); 2D"
   ]
  },
  {
   "cell_type": "code",
   "execution_count": null,
   "metadata": {},
   "outputs": [],
   "source": [
    "# import pandas as pd\n",
    "\n",
    "# SERIES - constant size 1D array (HOW/WHEN IS THAT USEFUL??)\n",
    "# series1 = pd.Series([10, 20, 30, 40])\n",
    "# print(series1)\n",
    "\n",
    "# names = np.array(['alskm', 'alskm', 'aslkdm'])\n",
    "# s2 = pd.Series(names)\n",
    "# print(s2)"
   ]
  },
  {
   "cell_type": "code",
   "execution_count": null,
   "metadata": {},
   "outputs": [],
   "source": [
    "# DATAFRAME\n",
    "\n",
    "# df = pd.DataFrame(['Name': ['michelle', 'frank', \"joe\"]])\n",
    "# print(df)\n",
    "\n",
    "# numList = [0, 10, 20, 30, 40]\n",
    "# df2 = pd.DataFrame(numList)\n",
    "# print(df)\n",
    "\n",
    "# names = [['Michelle, 850'], ['Nicholas', 320]]\n",
    "# df = pd.DataFrame(names, colums['Name', 'Salary'], dtype=float)\n",
    "# print(df)\n",
    "\n",
    "# df.describe()\n",
    "\n",
    "# iterate through rows of df\n",
    "# .iteritems() - for iterating over key,val pairs\n",
    "# .iterrows() - for iterating over rows as (index,series) pairs\n",
    "# .itertuples() - for iterating over rows as named tuples"
   ]
  },
  {
   "cell_type": "code",
   "execution_count": null,
   "metadata": {},
   "outputs": [],
   "source": [
    "# QUICK NOTE:\n",
    "\n",
    "# Panel"
   ]
  },
  {
   "cell_type": "code",
   "execution_count": null,
   "metadata": {},
   "outputs": [],
   "source": [
    "# IMPORTING DATA\n",
    "\n",
    "# data = pd.read_csv(\"bla.csv\")\n",
    "# data.head()\n",
    "# data.tail()\n",
    "# data.sample(5)\n",
    "\n",
    "# pd.read_excel()\n",
    "# pd.read_json()"
   ]
  },
  {
   "cell_type": "code",
   "execution_count": null,
   "metadata": {},
   "outputs": [],
   "source": [
    "# Wrangling\n",
    "\n",
    "# Sorting\n",
    "# sort by labels\n",
    "# sort by values\n",
    "# sort using a specific sorting algorithm (quicksort, mergesort, etc)\n",
    "\n",
    "# Handling Missing Data (replacing/dropping) and Duplicates\n",
    "# replace()\n",
    "# fillna()\n",
    "\n",
    "# Joining, Merging, Concatenating, Grouping, Aggregating\n",
    "\n"
   ]
  },
  {
   "cell_type": "markdown",
   "metadata": {},
   "source": [
    "## Visualization Aggregation, timeseries"
   ]
  },
  {
   "cell_type": "markdown",
   "metadata": {},
   "source": [
    "Visualization with Pandas\n",
    "\n"
   ]
  },
  {
   "cell_type": "code",
   "execution_count": null,
   "metadata": {},
   "outputs": [],
   "source": [
    "# Series.box.plot()\n",
    "# Dataframe.boxplot() or Dataframe.box.plot()\n",
    "\n",
    "# Series.plot.area()\n",
    "# Dataframe.plot.area()\n",
    "\n",
    "# Dataframe.plot.scatter()\n",
    "\n",
    "# Pie chart\n",
    "\n",
    "# Bar Plot\n",
    "\n",
    "# Histogram"
   ]
  }
 ],
 "metadata": {
  "kernelspec": {
   "display_name": "Python 3",
   "language": "python",
   "name": "python3"
  },
  "language_info": {
   "codemirror_mode": {
    "name": "ipython",
    "version": 3
   },
   "file_extension": ".py",
   "mimetype": "text/x-python",
   "name": "python",
   "nbconvert_exporter": "python",
   "pygments_lexer": "ipython3",
   "version": "3.7.4"
  }
 },
 "nbformat": 4,
 "nbformat_minor": 2
}
