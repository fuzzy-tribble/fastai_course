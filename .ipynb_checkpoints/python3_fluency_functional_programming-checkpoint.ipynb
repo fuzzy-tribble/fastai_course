{
 "cells": [
  {
   "cell_type": "markdown",
   "metadata": {},
   "source": [
    "# Python3 Fluency - Functional Programming"
   ]
  },
  {
   "cell_type": "markdown",
   "metadata": {},
   "source": [
    "## Background on Functional Programming in Python\n",
    "\n",
    "Functional programming originates from lambda calculus. Calculations are performed through math functions which avoid mutable data and changing state of surroundings. Keeping code purely functions means that there will generally be less dependencies...?\n",
    "\n",
    "It has the potential to be very powerful but can quickly become unreadble. Take care and make sure your code is clear and readable.\n",
    "\n",
    "First of all, Python is a non-functional language that implements functional features\n",
    "\n"
   ]
  },
  {
   "cell_type": "markdown",
   "metadata": {},
   "source": [
    "## List Comprehensions\n",
    "\n",
    "## Dict Comprehensions\n",
    "\n",
    "## Set Comprehensions\n",
    "\n",
    "## Lambda Functions\n",
    "\n",
    "## functools, partials, iterators\n",
    "\n",
    "## Combinations and Permutations"
   ]
  }
 ],
 "metadata": {
  "kernelspec": {
   "display_name": "Python 3",
   "language": "python",
   "name": "python3"
  },
  "language_info": {
   "codemirror_mode": {
    "name": "ipython",
    "version": 3
   },
   "file_extension": ".py",
   "mimetype": "text/x-python",
   "name": "python",
   "nbconvert_exporter": "python",
   "pygments_lexer": "ipython3",
   "version": "3.7.4"
  }
 },
 "nbformat": 4,
 "nbformat_minor": 2
}
